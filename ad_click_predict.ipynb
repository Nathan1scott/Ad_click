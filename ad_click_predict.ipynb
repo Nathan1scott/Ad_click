{
  "cells": [
    {
      "cell_type": "markdown",
      "metadata": {
        "id": "YNzTl_SQPcgr"
      },
      "source": [
        "\n",
        "The objective of this project is to predict the likelihood a customer will click on a particualer ad by using train machine learning algorithms. Through the predictive approach will help advertisers to enhance their compaign effectively. and increase theor return on inverstment."
      ]
    },
    {
      "cell_type": "markdown",
      "metadata": {
        "id": "kfvudj8GlUY-"
      },
      "source": [
        "# Import the require libraries"
      ]
    },
    {
      "cell_type": "code",
      "execution_count": null,
      "metadata": {
        "id": "CZGYCTKlIS1P"
      },
      "outputs": [],
      "source": [
        "#Basic libraries\n",
        "import numpy as np\n",
        "import pandas as pd\n",
        "import seaborn as sns\n",
        "import matplotlib.pyplot as plt\n",
        "\n",
        "\n",
        "from sklearn.model_selection import train_test_split\n",
        "\n",
        "#Models\n",
        "from sklearn.linear_model import LogisticRegression\n",
        "from sklearn.svm import SVC\n",
        "from sklearn.ensemble import RandomForestClassifier\n",
        "from sklearn.tree import DecisionTreeClassifier\n",
        "from sklearn.neighbors import KNeighborsClassifier\n",
        "from xgboost import XGBClassifier\n",
        "\n",
        "#bulding ANN\n",
        "import tensorflow as tf\n",
        "\n",
        "from sklearn.metrics import confusion_matrix, recall_score, precision_score, accuracy_score\n",
        "\n",
        "from warnings import simplefilter\n",
        "simplefilter(\"ignore\")\n"
      ]
    },
    {
      "cell_type": "markdown",
      "metadata": {
        "id": "Bkj6REV7ler7"
      },
      "source": [
        "\n",
        "# Loading the dataset"
      ]
    },
    {
      "cell_type": "code",
      "execution_count": null,
      "metadata": {
        "colab": {
          "background_save": true,
          "base_uri": "https://localhost:8080/",
          "height": 206
        },
        "id": "qfjYF8-6JoDw",
        "outputId": "5355fad1-6563-4ffb-ac88-0e1c6242bf6f"
      },
      "outputs": [
        {
          "ename": "FileNotFoundError",
          "evalue": "[Errno 2] No such file or directory: '/content/Advertisements-Data.csv'",
          "output_type": "error",
          "traceback": [
            "\u001b[0;31m---------------------------------------------------------------------------\u001b[0m",
            "\u001b[0;31mFileNotFoundError\u001b[0m                         Traceback (most recent call last)",
            "\u001b[0;32m<ipython-input-2-b28eb5b7e0af>\u001b[0m in \u001b[0;36m<cell line: 1>\u001b[0;34m()\u001b[0m\n\u001b[0;32m----> 1\u001b[0;31m \u001b[0mdata\u001b[0m\u001b[0;34m=\u001b[0m\u001b[0mpd\u001b[0m\u001b[0;34m.\u001b[0m\u001b[0mread_csv\u001b[0m\u001b[0;34m(\u001b[0m\u001b[0;34m\"/content/Advertisements-Data.csv\"\u001b[0m\u001b[0;34m)\u001b[0m\u001b[0;34m\u001b[0m\u001b[0;34m\u001b[0m\u001b[0m\n\u001b[0m\u001b[1;32m      2\u001b[0m \u001b[0mdata\u001b[0m\u001b[0;34m.\u001b[0m\u001b[0mhead\u001b[0m\u001b[0;34m(\u001b[0m\u001b[0;36m5\u001b[0m\u001b[0;34m)\u001b[0m\u001b[0;34m\u001b[0m\u001b[0;34m\u001b[0m\u001b[0m\n",
            "\u001b[0;32m/usr/local/lib/python3.10/dist-packages/pandas/io/parsers/readers.py\u001b[0m in \u001b[0;36mread_csv\u001b[0;34m(filepath_or_buffer, sep, delimiter, header, names, index_col, usecols, dtype, engine, converters, true_values, false_values, skipinitialspace, skiprows, skipfooter, nrows, na_values, keep_default_na, na_filter, verbose, skip_blank_lines, parse_dates, infer_datetime_format, keep_date_col, date_parser, date_format, dayfirst, cache_dates, iterator, chunksize, compression, thousands, decimal, lineterminator, quotechar, quoting, doublequote, escapechar, comment, encoding, encoding_errors, dialect, on_bad_lines, delim_whitespace, low_memory, memory_map, float_precision, storage_options, dtype_backend)\u001b[0m\n\u001b[1;32m    946\u001b[0m     \u001b[0mkwds\u001b[0m\u001b[0;34m.\u001b[0m\u001b[0mupdate\u001b[0m\u001b[0;34m(\u001b[0m\u001b[0mkwds_defaults\u001b[0m\u001b[0;34m)\u001b[0m\u001b[0;34m\u001b[0m\u001b[0;34m\u001b[0m\u001b[0m\n\u001b[1;32m    947\u001b[0m \u001b[0;34m\u001b[0m\u001b[0m\n\u001b[0;32m--> 948\u001b[0;31m     \u001b[0;32mreturn\u001b[0m \u001b[0m_read\u001b[0m\u001b[0;34m(\u001b[0m\u001b[0mfilepath_or_buffer\u001b[0m\u001b[0;34m,\u001b[0m \u001b[0mkwds\u001b[0m\u001b[0;34m)\u001b[0m\u001b[0;34m\u001b[0m\u001b[0;34m\u001b[0m\u001b[0m\n\u001b[0m\u001b[1;32m    949\u001b[0m \u001b[0;34m\u001b[0m\u001b[0m\n\u001b[1;32m    950\u001b[0m \u001b[0;34m\u001b[0m\u001b[0m\n",
            "\u001b[0;32m/usr/local/lib/python3.10/dist-packages/pandas/io/parsers/readers.py\u001b[0m in \u001b[0;36m_read\u001b[0;34m(filepath_or_buffer, kwds)\u001b[0m\n\u001b[1;32m    609\u001b[0m \u001b[0;34m\u001b[0m\u001b[0m\n\u001b[1;32m    610\u001b[0m     \u001b[0;31m# Create the parser.\u001b[0m\u001b[0;34m\u001b[0m\u001b[0;34m\u001b[0m\u001b[0m\n\u001b[0;32m--> 611\u001b[0;31m     \u001b[0mparser\u001b[0m \u001b[0;34m=\u001b[0m \u001b[0mTextFileReader\u001b[0m\u001b[0;34m(\u001b[0m\u001b[0mfilepath_or_buffer\u001b[0m\u001b[0;34m,\u001b[0m \u001b[0;34m**\u001b[0m\u001b[0mkwds\u001b[0m\u001b[0;34m)\u001b[0m\u001b[0;34m\u001b[0m\u001b[0;34m\u001b[0m\u001b[0m\n\u001b[0m\u001b[1;32m    612\u001b[0m \u001b[0;34m\u001b[0m\u001b[0m\n\u001b[1;32m    613\u001b[0m     \u001b[0;32mif\u001b[0m \u001b[0mchunksize\u001b[0m \u001b[0;32mor\u001b[0m \u001b[0miterator\u001b[0m\u001b[0;34m:\u001b[0m\u001b[0;34m\u001b[0m\u001b[0;34m\u001b[0m\u001b[0m\n",
            "\u001b[0;32m/usr/local/lib/python3.10/dist-packages/pandas/io/parsers/readers.py\u001b[0m in \u001b[0;36m__init__\u001b[0;34m(self, f, engine, **kwds)\u001b[0m\n\u001b[1;32m   1446\u001b[0m \u001b[0;34m\u001b[0m\u001b[0m\n\u001b[1;32m   1447\u001b[0m         \u001b[0mself\u001b[0m\u001b[0;34m.\u001b[0m\u001b[0mhandles\u001b[0m\u001b[0;34m:\u001b[0m \u001b[0mIOHandles\u001b[0m \u001b[0;34m|\u001b[0m \u001b[0;32mNone\u001b[0m \u001b[0;34m=\u001b[0m \u001b[0;32mNone\u001b[0m\u001b[0;34m\u001b[0m\u001b[0;34m\u001b[0m\u001b[0m\n\u001b[0;32m-> 1448\u001b[0;31m         \u001b[0mself\u001b[0m\u001b[0;34m.\u001b[0m\u001b[0m_engine\u001b[0m \u001b[0;34m=\u001b[0m \u001b[0mself\u001b[0m\u001b[0;34m.\u001b[0m\u001b[0m_make_engine\u001b[0m\u001b[0;34m(\u001b[0m\u001b[0mf\u001b[0m\u001b[0;34m,\u001b[0m \u001b[0mself\u001b[0m\u001b[0;34m.\u001b[0m\u001b[0mengine\u001b[0m\u001b[0;34m)\u001b[0m\u001b[0;34m\u001b[0m\u001b[0;34m\u001b[0m\u001b[0m\n\u001b[0m\u001b[1;32m   1449\u001b[0m \u001b[0;34m\u001b[0m\u001b[0m\n\u001b[1;32m   1450\u001b[0m     \u001b[0;32mdef\u001b[0m \u001b[0mclose\u001b[0m\u001b[0;34m(\u001b[0m\u001b[0mself\u001b[0m\u001b[0;34m)\u001b[0m \u001b[0;34m->\u001b[0m \u001b[0;32mNone\u001b[0m\u001b[0;34m:\u001b[0m\u001b[0;34m\u001b[0m\u001b[0;34m\u001b[0m\u001b[0m\n",
            "\u001b[0;32m/usr/local/lib/python3.10/dist-packages/pandas/io/parsers/readers.py\u001b[0m in \u001b[0;36m_make_engine\u001b[0;34m(self, f, engine)\u001b[0m\n\u001b[1;32m   1703\u001b[0m                 \u001b[0;32mif\u001b[0m \u001b[0;34m\"b\"\u001b[0m \u001b[0;32mnot\u001b[0m \u001b[0;32min\u001b[0m \u001b[0mmode\u001b[0m\u001b[0;34m:\u001b[0m\u001b[0;34m\u001b[0m\u001b[0;34m\u001b[0m\u001b[0m\n\u001b[1;32m   1704\u001b[0m                     \u001b[0mmode\u001b[0m \u001b[0;34m+=\u001b[0m \u001b[0;34m\"b\"\u001b[0m\u001b[0;34m\u001b[0m\u001b[0;34m\u001b[0m\u001b[0m\n\u001b[0;32m-> 1705\u001b[0;31m             self.handles = get_handle(\n\u001b[0m\u001b[1;32m   1706\u001b[0m                 \u001b[0mf\u001b[0m\u001b[0;34m,\u001b[0m\u001b[0;34m\u001b[0m\u001b[0;34m\u001b[0m\u001b[0m\n\u001b[1;32m   1707\u001b[0m                 \u001b[0mmode\u001b[0m\u001b[0;34m,\u001b[0m\u001b[0;34m\u001b[0m\u001b[0;34m\u001b[0m\u001b[0m\n",
            "\u001b[0;32m/usr/local/lib/python3.10/dist-packages/pandas/io/common.py\u001b[0m in \u001b[0;36mget_handle\u001b[0;34m(path_or_buf, mode, encoding, compression, memory_map, is_text, errors, storage_options)\u001b[0m\n\u001b[1;32m    861\u001b[0m         \u001b[0;32mif\u001b[0m \u001b[0mioargs\u001b[0m\u001b[0;34m.\u001b[0m\u001b[0mencoding\u001b[0m \u001b[0;32mand\u001b[0m \u001b[0;34m\"b\"\u001b[0m \u001b[0;32mnot\u001b[0m \u001b[0;32min\u001b[0m \u001b[0mioargs\u001b[0m\u001b[0;34m.\u001b[0m\u001b[0mmode\u001b[0m\u001b[0;34m:\u001b[0m\u001b[0;34m\u001b[0m\u001b[0;34m\u001b[0m\u001b[0m\n\u001b[1;32m    862\u001b[0m             \u001b[0;31m# Encoding\u001b[0m\u001b[0;34m\u001b[0m\u001b[0;34m\u001b[0m\u001b[0m\n\u001b[0;32m--> 863\u001b[0;31m             handle = open(\n\u001b[0m\u001b[1;32m    864\u001b[0m                 \u001b[0mhandle\u001b[0m\u001b[0;34m,\u001b[0m\u001b[0;34m\u001b[0m\u001b[0;34m\u001b[0m\u001b[0m\n\u001b[1;32m    865\u001b[0m                 \u001b[0mioargs\u001b[0m\u001b[0;34m.\u001b[0m\u001b[0mmode\u001b[0m\u001b[0;34m,\u001b[0m\u001b[0;34m\u001b[0m\u001b[0;34m\u001b[0m\u001b[0m\n",
            "\u001b[0;31mFileNotFoundError\u001b[0m: [Errno 2] No such file or directory: '/content/Advertisements-Data.csv'"
          ]
        }
      ],
      "source": [
        "data=pd.read_csv(\"/content/Advertisements-Data.csv\")\n",
        "data.head(5)"
      ]
    },
    {
      "cell_type": "markdown",
      "metadata": {
        "id": "w84xRqZXlvWp"
      },
      "source": [
        "# Exploratory Data Analysis"
      ]
    },
    {
      "cell_type": "markdown",
      "metadata": {
        "id": "vIEhDwa2ltZY"
      },
      "source": [
        "\n",
        "Data exploration helps to data analysis process. certain techniques used to be applied to understand the dataset well. info, shape, isnull, dtypes, duplicate and describe function were ultilized."
      ]
    },
    {
      "cell_type": "markdown",
      "metadata": {
        "id": "P4VWUdysnP9u"
      },
      "source": [
        "**info of the dataset**"
      ]
    },
    {
      "cell_type": "code",
      "execution_count": null,
      "metadata": {
        "colab": {
          "background_save": true
        },
        "id": "dhuhhpeQKiaQ"
      },
      "outputs": [],
      "source": [
        "data.info()"
      ]
    },
    {
      "cell_type": "code",
      "execution_count": null,
      "metadata": {
        "colab": {
          "background_save": true
        },
        "id": "53-K0CXEiyai"
      },
      "outputs": [],
      "source": [
        "data= data.rename(columns={\"Male\": \"Gender\"})\n"
      ]
    },
    {
      "cell_type": "code",
      "execution_count": null,
      "metadata": {
        "colab": {
          "background_save": true
        },
        "id": "mtyRzGsuKzA6"
      },
      "outputs": [],
      "source": [
        "# checking the number of rows and colums\n",
        "data.shape"
      ]
    },
    {
      "cell_type": "markdown",
      "metadata": {
        "id": "9sqQPYUFnx1g"
      },
      "source": [
        "**Total missing value of Every feature**"
      ]
    },
    {
      "cell_type": "code",
      "execution_count": null,
      "metadata": {
        "colab": {
          "background_save": true
        },
        "id": "VMAWXhHaLGvR"
      },
      "outputs": [],
      "source": [
        "#checking missing values\n",
        "data.isnull().sum()"
      ]
    },
    {
      "cell_type": "code",
      "execution_count": null,
      "metadata": {
        "colab": {
          "background_save": true
        },
        "id": "_PpjdPwU4_ZQ"
      },
      "outputs": [],
      "source": [
        "\n",
        "#Assessing duplicate values\n",
        "print(\"Number of duplicate values:\", data.duplicated().sum())"
      ]
    },
    {
      "cell_type": "markdown",
      "metadata": {
        "id": "-0N3wusdnlJ4"
      },
      "source": [
        "**Summary of the dataset**"
      ]
    },
    {
      "cell_type": "code",
      "execution_count": null,
      "metadata": {
        "colab": {
          "background_save": true
        },
        "id": "j3dkwpMwLiC9"
      },
      "outputs": [],
      "source": [
        "# checking the descriptive statistical\n",
        "data.describe()"
      ]
    },
    {
      "cell_type": "markdown",
      "metadata": {
        "id": "dg9OenVvp7rR"
      },
      "source": [
        "\n",
        "\n",
        "Daily_Time_Spent_on_Site: average user spend on the site is 65 minutes\n",
        "\n",
        "Age: the average of users is 36\n",
        "\n",
        "Area income: the mean area income is 55,000\n",
        "\n",
        "Daily internet usage: the average user will comsume 180 MB daily\n",
        "\n",
        "Gender: the gender approximately equal distributions.\n",
        "\n",
        "Clickes on Ad: the distribution between the clicked and non clicked indicating a near equal distributions.\n"
      ]
    },
    {
      "cell_type": "code",
      "execution_count": null,
      "metadata": {
        "colab": {
          "background_save": true
        },
        "id": "BNSodEZeLvMH"
      },
      "outputs": [],
      "source": [
        "#checking the distribution of target feature\n",
        "click=data[\"Clicked on Ad\"].value_counts()\n",
        "click"
      ]
    },
    {
      "cell_type": "code",
      "execution_count": null,
      "metadata": {
        "colab": {
          "background_save": true
        },
        "id": "8sgCW1L3DklR"
      },
      "outputs": [],
      "source": [
        "sns.countplot(x=\"Clicked on Ad\", data=data)\n",
        "plt.xlabel(\"clicked on Ad\")\n",
        "plt.ylabel(\"Count of Clicked\")\n",
        "plt.show()"
      ]
    },
    {
      "cell_type": "markdown",
      "metadata": {
        "id": "2TtTM96XpE64"
      },
      "source": [
        "since there are potential balance among the who click and those do not there we dont need to worry much."
      ]
    },
    {
      "cell_type": "markdown",
      "metadata": {
        "id": "KYnU8FdEMM3V"
      },
      "source": [
        "Analyzing Cate Feature"
      ]
    },
    {
      "cell_type": "markdown",
      "metadata": {
        "id": "ZmFMBZmyoNPa"
      },
      "source": [
        "**Printing total columns of the dataset**"
      ]
    },
    {
      "cell_type": "code",
      "execution_count": null,
      "metadata": {
        "colab": {
          "background_save": true
        },
        "id": "nju-QZgpq7I0"
      },
      "outputs": [],
      "source": [
        "data.columns"
      ]
    },
    {
      "cell_type": "markdown",
      "metadata": {
        "id": "n2cjesMtzbDW"
      },
      "source": [
        "# Splits the dataset into training and testing"
      ]
    },
    {
      "cell_type": "markdown",
      "metadata": {
        "id": "oy4Cxv369WAp"
      },
      "source": [
        "The dataset is splits into 70% for the training set and 30% for the test set."
      ]
    },
    {
      "cell_type": "code",
      "execution_count": null,
      "metadata": {
        "colab": {
          "background_save": true
        },
        "id": "wxVCZ3obu75L"
      },
      "outputs": [],
      "source": [
        "X=data.drop([\"Ad Topic Line\",\"City\",\"Country\",\"Timestamp\"], axis=1)\n",
        "Y=data[\"Clicked on Ad\"]"
      ]
    },
    {
      "cell_type": "code",
      "execution_count": null,
      "metadata": {
        "colab": {
          "background_save": true
        },
        "id": "zqmO88hZxQ24"
      },
      "outputs": [],
      "source": [
        "X.head(2)"
      ]
    },
    {
      "cell_type": "code",
      "execution_count": null,
      "metadata": {
        "colab": {
          "background_save": true
        },
        "id": "CGngtT9wF3-_"
      },
      "outputs": [],
      "source": [
        "X.corr()"
      ]
    },
    {
      "cell_type": "code",
      "execution_count": null,
      "metadata": {
        "colab": {
          "background_save": true
        },
        "id": "v8AJi00fn84O"
      },
      "outputs": [],
      "source": [
        "data_corr =data.select_dtypes(include=[np.number]).corr()\n",
        "sns.heatmap(data_corr,annot=True)\n",
        "plt.show()"
      ]
    },
    {
      "cell_type": "markdown",
      "metadata": {
        "id": "4_DYaJVXTelP"
      },
      "source": [
        "This correlation matrix compares four variables with clicked on ad.\n",
        "\n",
        "\n",
        "* The daily Time Spent on site is negatively correlated with clicked on Ad (-0.75). This means users who spend more time on the site are less likely to click on ads.  \n",
        "\n",
        "* Age is positively correlated with Clicked on Ad with 0.49. This means older users are more likely to click on ads.\n",
        "\n",
        "\n",
        "* Area income negatively correlated with clicked on Ad with 0.48. This means users with higher income are less likely to click on Ads.\n",
        "\n",
        "\n",
        "* Daily internet usage is strongly negatively correlated with clicked on Ad with -0.79. this means users who spend more time using the internet are less likely to click on ads.\n",
        "\n",
        "\n",
        "* Gender negative correlate with clicked on Ad with-0.038. This indicates that men are slightly less likely to click on Ad than women.\n",
        "This indicates that several number of factors influences the likelihood that users click on ad.\n",
        "These factors include how much users spend on the internet, age, income and how much they use it.\n"
      ]
    },
    {
      "cell_type": "code",
      "execution_count": null,
      "metadata": {
        "colab": {
          "background_save": true
        },
        "id": "Rxo3Y69D0Yto"
      },
      "outputs": [],
      "source": [
        "X_train,X_test,Y_train,Y_test= train_test_split(X,Y, test_size=0.3,random_state=0)"
      ]
    },
    {
      "cell_type": "markdown",
      "metadata": {
        "id": "Nz45m0SbH0O0"
      },
      "source": [
        "# Feature Scaling"
      ]
    },
    {
      "cell_type": "markdown",
      "metadata": {
        "id": "686fOeOk7Foz"
      },
      "source": [
        "MinMaxScaler from the preprocessing module was utilized to rescale numerical features in the dataset because of the specific range of 0 t0 1."
      ]
    },
    {
      "cell_type": "code",
      "execution_count": null,
      "metadata": {
        "colab": {
          "background_save": true
        },
        "id": "7JJsdSouziS-"
      },
      "outputs": [],
      "source": [
        "from sklearn.preprocessing import MinMaxScaler\n",
        "\n",
        "mmscaler=MinMaxScaler()\n",
        "X_train_minmax=mmscaler.fit_transform(X_train)\n",
        "X_test_minmax=mmscaler.transform(X_test)"
      ]
    },
    {
      "cell_type": "code",
      "execution_count": null,
      "metadata": {
        "colab": {
          "background_save": true
        },
        "id": "cwmquIdW1zEy"
      },
      "outputs": [],
      "source": [
        "print(X_train.shape)\n",
        "print(X_test.shape)\n",
        "print(X_train.shape)\n",
        "print(Y_test.shape)"
      ]
    },
    {
      "cell_type": "markdown",
      "metadata": {
        "id": "xfROjeZ73_Tz"
      },
      "source": [
        "# Model Selections"
      ]
    },
    {
      "cell_type": "markdown",
      "metadata": {
        "id": "9aRrLztxN5Ps"
      },
      "source": [
        "Building Logistic Regression"
      ]
    },
    {
      "cell_type": "code",
      "execution_count": null,
      "metadata": {
        "colab": {
          "background_save": true
        },
        "id": "eDd6KTI-EuY3"
      },
      "outputs": [],
      "source": [
        "LR=LogisticRegression()\n",
        "LR.fit(X_train,Y_train)\n",
        "y_pred_LR=LR.predict(X_train)\n",
        "\n",
        "CFM_LR=confusion_matrix(Y_train,y_pred_LR)\n",
        "\n",
        "# CFM_LR is the confusion matrix\n",
        "TN,FP,FN,TP = CFM_LR.ravel()\n",
        "\n",
        "# Sensitivity\n",
        "Sen_LR= TP / (TP + FN)\n",
        "\n",
        "# Specification\n",
        "Spec_LR= TN /(TN + FP)"
      ]
    },
    {
      "cell_type": "markdown",
      "metadata": {
        "id": "J9vD_li8LFB9"
      },
      "source": [
        "Building Support Vector Classifier"
      ]
    },
    {
      "cell_type": "markdown",
      "metadata": {
        "id": "W-JPXzAJPAdI"
      },
      "source": [
        "The kernel \"rbf\" Radical Basis Function is been used. random is set to \"0\""
      ]
    },
    {
      "cell_type": "code",
      "execution_count": null,
      "metadata": {
        "colab": {
          "background_save": true
        },
        "id": "2C1Ki1cB4CwS"
      },
      "outputs": [],
      "source": [
        "SVM=SVC(kernel=\"linear\",random_state=0)\n",
        "SVM.fit(X_train,Y_train)\n",
        "y_pred_SVM=SVM.predict(X_train)\n",
        "\n",
        "CFM_SVM=confusion_matrix(Y_train,y_pred_SVM)\n",
        "\n",
        "# CFM_LR is the confusion matrix\n",
        "TN,FP,FN,TP = CFM_SVM.ravel()\n",
        "\n",
        "# Sensitivity\n",
        "Sen_SVM= TP / (TP + FN)\n",
        "\n",
        "# Specification\n",
        "Spec_SVM= TN /(TN + FP)"
      ]
    },
    {
      "cell_type": "markdown",
      "metadata": {
        "id": "UYE_QBlDEdgW"
      },
      "source": [
        "*Building KNeighborsClassifier*\n",
        "\n",
        "Setting KNN classifier with the number of neighbour (3)\n",
        "\n",
        "K-Nearest Neighbors is a supervised machine learning algorithm that classifier new data points."
      ]
    },
    {
      "cell_type": "code",
      "execution_count": null,
      "metadata": {
        "colab": {
          "background_save": true
        },
        "id": "CiNZ6pBvMPW2"
      },
      "outputs": [],
      "source": [
        "KNN=KNeighborsClassifier(n_neighbors=3)\n",
        "KNN.fit(X_train,Y_train)\n",
        "y_pred_KNN=KNN.predict(X_train)\n",
        "\n",
        "CFM_KNN=confusion_matrix(Y_train,y_pred_KNN)\n",
        "\n",
        "#calculate the sensitivity and specification\n",
        "TN,FP,FN,TP=CFM_KNN.ravel()\n",
        "\n",
        "#Sensitivity\n",
        "Sen_KNN = TP/(TP+FN)\n",
        "\n",
        "#Specification\n",
        "Spec_KNN = TN /(TN+FP)\n",
        "\n"
      ]
    },
    {
      "cell_type": "markdown",
      "metadata": {
        "id": "44l5ssU4EKHI"
      },
      "source": [
        "*Building Decision Tree classifier*\n",
        "\n",
        "Decision tree is a supervised machine learning algorith that resemble a flowchart.its used for both classification and regression problem.\n"
      ]
    },
    {
      "cell_type": "code",
      "execution_count": null,
      "metadata": {
        "colab": {
          "background_save": true
        },
        "id": "cvT3nPxFQkKO"
      },
      "outputs": [],
      "source": [
        "DT=DecisionTreeClassifier(criterion=\"entropy\", random_state=0)\n",
        "DT.fit(X_train,Y_train)\n",
        "y_pred_DT=DT.predict(X_train)\n",
        "\n",
        "CFM_DT=confusion_matrix(Y_train,y_pred_DT)\n",
        "\n",
        "#CFM_DT  is the confusion matrix\n",
        "TN,FP,FN,TP = CFM_DT.ravel()\n",
        "\n",
        "#Sensitivity\n",
        "Sen_DT= TP /(TP + FN)\n",
        "\n",
        "#Specification\n",
        "Spec_DT = TN / (TN + FP)"
      ]
    },
    {
      "cell_type": "code",
      "execution_count": null,
      "metadata": {
        "colab": {
          "background_save": true
        },
        "id": "SWaZMtDtOL3l"
      },
      "outputs": [],
      "source": [
        "from sklearn.tree import plot_tree\n",
        "\n",
        "plt.figure(figsize = (5,2.5))\n",
        "plot_tree(DT, filled=True, feature_names=X.columns, class_names=Y.unique().astype(str))\n",
        "plt.show()"
      ]
    },
    {
      "cell_type": "markdown",
      "metadata": {
        "id": "6Y2JhERAD_-C"
      },
      "source": [
        "Building Random forest classifier"
      ]
    },
    {
      "cell_type": "code",
      "execution_count": null,
      "metadata": {
        "colab": {
          "background_save": true
        },
        "id": "1D9atl6kSTii"
      },
      "outputs": [],
      "source": [
        "RF=RandomForestClassifier(n_estimators=100, n_jobs=-1, bootstrap=True, min_samples_leaf=100, oob_score= True)\n",
        "RF.fit(X_train,Y_train)\n",
        "y_pred_RF=RF.predict(X_train)\n",
        "\n",
        "CFM_RF=confusion_matrix(Y_train,y_pred_RF)\n",
        "\n",
        "#CFM_RF is the confusion matrix\n",
        "TN,FP,FN,TP = CFM_RF.ravel()\n",
        "\n",
        "#Sensitivity\n",
        "Sen_RF =TP/(TP+FN)\n",
        "\n",
        "#Specification\n",
        "Spec_RF = TN / (TN+FP)\n"
      ]
    },
    {
      "cell_type": "markdown",
      "metadata": {
        "id": "fy06Kc2LE6zo"
      },
      "source": [
        "XGBClassifier"
      ]
    },
    {
      "cell_type": "code",
      "execution_count": null,
      "metadata": {
        "colab": {
          "background_save": true
        },
        "id": "5ROXUNbaQ7Hu"
      },
      "outputs": [],
      "source": [
        "XGB=XGBClassifier(n_estimators=100)\n",
        "XGB.fit(X_train,Y_train)\n",
        "y_pred_XGB= XGB.predict(X_train)\n",
        "\n",
        "CFM_XGB= confusion_matrix (Y_train, y_pred_XGB)\n",
        "\n",
        "#CFM_XGB is the confusion matrix\n",
        "TN,FP,FN,TP = CFM_XGB.ravel()\n",
        "\n",
        "#Sensitivity\n",
        "Sen_XGB = TP/(TP+FN)\n",
        "\n",
        "#Specification\n",
        "Spec_XGB = TN/ (TN+FP)"
      ]
    },
    {
      "cell_type": "markdown",
      "metadata": {
        "id": "HQtVw4_tK79i"
      },
      "source": [
        "Building ANN"
      ]
    },
    {
      "cell_type": "code",
      "execution_count": null,
      "metadata": {
        "colab": {
          "background_save": true
        },
        "id": "0libCLa3n5Iw"
      },
      "outputs": [],
      "source": [
        "Y_train_dum = pd.get_dummies(Y_train)"
      ]
    },
    {
      "cell_type": "code",
      "execution_count": null,
      "metadata": {
        "colab": {
          "background_save": true
        },
        "id": "73weDcPS4s1w"
      },
      "outputs": [],
      "source": [
        "ANN=tf.keras.models.Sequential()\n",
        "ANN.add(tf.keras.layers.Dense(units=5,activation=\"relu\"))\n",
        "ANN.add(tf.keras.layers.Dense(units=4,activation=\"relu\"))\n",
        "ANN.add(tf.keras.layers.Dense(units=1,activation=\"sigmoid\"))"
      ]
    },
    {
      "cell_type": "code",
      "execution_count": null,
      "metadata": {
        "colab": {
          "background_save": true
        },
        "id": "WegbncxIKjHa"
      },
      "outputs": [],
      "source": [
        "ANN.compile(optimizer=\"adam\", loss=\"binary_crossentropy\", metrics=[\"accuracy\"])"
      ]
    },
    {
      "cell_type": "markdown",
      "metadata": {
        "id": "5Q1tW6r7Ra-h"
      },
      "source": [
        "\n",
        "The model ANN learn from the training data X_train and Y_train using batches of size 32, and to repeat this process for 100 epochs."
      ]
    },
    {
      "cell_type": "code",
      "execution_count": null,
      "metadata": {
        "colab": {
          "background_save": true
        },
        "collapsed": true,
        "id": "MiAgEXLuL53s"
      },
      "outputs": [],
      "source": [
        "ANN.fit(X_train, Y_train, batch_size=32, epochs=50)"
      ]
    },
    {
      "cell_type": "code",
      "execution_count": null,
      "metadata": {
        "colab": {
          "background_save": true
        },
        "id": "JNIbdNTmnfFz"
      },
      "outputs": [],
      "source": [
        "ANN.summary()\n"
      ]
    },
    {
      "cell_type": "code",
      "execution_count": null,
      "metadata": {
        "colab": {
          "background_save": true
        },
        "collapsed": true,
        "id": "TkpU9YTtD-Lh"
      },
      "outputs": [],
      "source": [
        "y_pred = ANN.predict(X_test)"
      ]
    },
    {
      "cell_type": "markdown",
      "metadata": {
        "id": "bGNEXIHBWgoY"
      },
      "source": [
        "# Evaluate the Models"
      ]
    },
    {
      "cell_type": "markdown",
      "metadata": {
        "id": "U1NBbJazJuFJ"
      },
      "source": [
        "**Logistic Regression**"
      ]
    },
    {
      "cell_type": "code",
      "execution_count": null,
      "metadata": {
        "colab": {
          "background_save": true
        },
        "id": "hf7r4EPfWm7T"
      },
      "outputs": [],
      "source": [
        "print(f\"{LR} Confusion Matrix\")\n",
        "print(CFM_LR)\n",
        "print(f\"{LR} Sensitivity (Recall): {Sen_LR:.2f}\")\n",
        "print(f\"{LR} Specificity: {Spec_LR:.2}\")\n",
        "print(\"Accuracy:\", round(accuracy_score(Y_train,y_pred_LR),2))\n",
        "print(\"-\"*50)"
      ]
    },
    {
      "cell_type": "code",
      "execution_count": null,
      "metadata": {
        "colab": {
          "background_save": true
        },
        "id": "HyxSQApFab6X"
      },
      "outputs": [],
      "source": [
        "sns.heatmap(CFM_LR,annot=True, fmt=\"d\", cmap=\"Blues\")\n",
        "plt.xlabel(\"Predicted Label\")\n",
        "plt.ylabel(\"True Label\")\n",
        "plt.title(\"Confusion matrix for LogisticRegression \")\n",
        "plt.show()"
      ]
    },
    {
      "cell_type": "markdown",
      "metadata": {
        "id": "sTbic8IJhZeN"
      },
      "source": [
        "\n",
        "The diagonal values of 333 and 354 represent correct preddiction. theses are the instance where te model correctly predicted the true label. out of the 1000 sample 333 user will not clicked on the ads while 354 will click on the ads."
      ]
    },
    {
      "cell_type": "markdown",
      "metadata": {
        "id": "uVAjZ3xjkvS_"
      },
      "source": [
        "\n",
        "\n",
        "---\n",
        "\n"
      ]
    },
    {
      "cell_type": "markdown",
      "metadata": {
        "id": "sKIf1qRqVR_N"
      },
      "source": [
        "**Support Vector Classifier**"
      ]
    },
    {
      "cell_type": "code",
      "execution_count": null,
      "metadata": {
        "colab": {
          "background_save": true
        },
        "collapsed": true,
        "id": "p7JbCKoLXLtu"
      },
      "outputs": [],
      "source": [
        "print(f\"{SVM} Confusion Matrix\")\n",
        "print(CFM_SVM)\n",
        "print(f\"{SVM} Sensitivity (Recall):{Sen_SVM:.2f}\")\n",
        "print(f\"{SVM} Specificity: {Spec_SVM:.2}\")\n",
        "print(\"Accuracy:\", round(accuracy_score(Y_train,y_pred_SVM),2))\n",
        "print(\"-\"*50)"
      ]
    },
    {
      "cell_type": "code",
      "execution_count": null,
      "metadata": {
        "colab": {
          "background_save": true
        },
        "id": "oSIBoUF3bYgT"
      },
      "outputs": [],
      "source": [
        "sns.heatmap(CFM_SVM,annot=True, fmt=\"d\", cmap=\"Blues\")\n",
        "plt.xlabel(\"Predicted Label\")\n",
        "plt.ylabel(\"True Label\")\n",
        "plt.title(\"Confusion matrix for Support vector classifier \")\n",
        "plt.show()"
      ]
    },
    {
      "cell_type": "markdown",
      "metadata": {
        "id": "kOnGFKGziTbr"
      },
      "source": [
        "The diagonal values of 329 and 351 represent correct preddiction. theses are the instance where te model correctly predicted the true label. out of the 1000 sample 329 user will not clicked on the ads while 351 will click on the ads."
      ]
    },
    {
      "cell_type": "markdown",
      "metadata": {
        "id": "_YaJB-ldkplg"
      },
      "source": [
        "\n",
        "\n",
        "---\n",
        "\n"
      ]
    },
    {
      "cell_type": "markdown",
      "metadata": {
        "id": "TV64JsKHVMht"
      },
      "source": [
        "**KNeighborsClassifier**"
      ]
    },
    {
      "cell_type": "code",
      "execution_count": null,
      "metadata": {
        "colab": {
          "background_save": true
        },
        "collapsed": true,
        "id": "9jAVHXHrLakx"
      },
      "outputs": [],
      "source": [
        "print(f\"{KNN} Confusion Matrix\")\n",
        "print(CFM_KNN)\n",
        "print(f\"{KNN} Sensitivity (Recall):{Sen_KNN:.2f}\")\n",
        "print(f\"{KNN} Specificity: {Spec_KNN:.2}\")\n",
        "print(\"Accuracy:\", round(accuracy_score(Y_train,y_pred_KNN),2))\n",
        "print(\"-\"*50)"
      ]
    },
    {
      "cell_type": "code",
      "execution_count": null,
      "metadata": {
        "colab": {
          "background_save": true
        },
        "id": "xUg2tDu9bzLd"
      },
      "outputs": [],
      "source": [
        "sns.heatmap(CFM_KNN,annot=True, fmt=\"d\", cmap=\"Blues\")\n",
        "plt.xlabel(\"Predicted Label\")\n",
        "plt.ylabel(\"True Label\")\n",
        "plt.title(\"Confusion matrix for KNeighborsClassifier \")\n",
        "plt.show()"
      ]
    },
    {
      "cell_type": "markdown",
      "metadata": {
        "id": "6w-Xipk5iqgw"
      },
      "source": [
        "The diagonal values of 302 and 308 represent correct preddiction. theses are the instance where te model correctly predicted the true label. out of the 1000 sample 302 user will not clicked on the ads while 308 will click on the ads."
      ]
    },
    {
      "cell_type": "markdown",
      "metadata": {
        "id": "6egb93w8kRlj"
      },
      "source": [
        "\n",
        "\n",
        "\n",
        "---\n",
        "\n",
        "\n",
        "\n"
      ]
    },
    {
      "cell_type": "markdown",
      "metadata": {
        "id": "_tnT-WJdrXvs"
      },
      "source": [
        "**DecisionTreeClassifier**"
      ]
    },
    {
      "cell_type": "code",
      "execution_count": null,
      "metadata": {
        "colab": {
          "background_save": true
        },
        "collapsed": true,
        "id": "Pc67eKCpL11j"
      },
      "outputs": [],
      "source": [
        "print(f\"{DT} Confusion Matrix\")\n",
        "print(CFM_DT)\n",
        "print(f\"{DT} Sensitivity (Recall): {Sen_DT:.2f}\")\n",
        "print(f\"{DT} Specificity: {Spec_DT:.2}\")\n",
        "print(\"Accuracy:\",round(accuracy_score(Y_train,y_pred_DT),2))\n",
        "print(\"-\"*50)"
      ]
    },
    {
      "cell_type": "code",
      "execution_count": null,
      "metadata": {
        "colab": {
          "background_save": true
        },
        "id": "hlsYVuzJcGtV"
      },
      "outputs": [],
      "source": [
        "sns.heatmap(CFM_DT,annot=True, fmt=\"d\", cmap=\"Blues\")\n",
        "plt.xlabel(\"Predicted Label\")\n",
        "plt.ylabel(\"True Label\")\n",
        "plt.title(\"Confusion matrix for DecisionTreeClassifier \")\n",
        "plt.show()"
      ]
    },
    {
      "cell_type": "markdown",
      "metadata": {
        "id": "SJ0zm2mpjBIY"
      },
      "source": [
        "The diagonal values of 336 and 364 represent correct preddiction. theses are the instance where te model correctly predicted the true label. out of the 1000 sample 336 user will not clicked on the ads while 364 will click on the ads."
      ]
    },
    {
      "cell_type": "markdown",
      "metadata": {
        "id": "34HpYiL-kH2j"
      },
      "source": [
        "**RandomForestClassifier**"
      ]
    },
    {
      "cell_type": "code",
      "execution_count": null,
      "metadata": {
        "colab": {
          "background_save": true
        },
        "collapsed": true,
        "id": "E-BhLEftpCFW"
      },
      "outputs": [],
      "source": [
        "print(f\"{RF} Confusion Matrix\")\n",
        "print(CFM_RF)\n",
        "print(f\"{RF} Sensitivity (Recall): {Sen_RF:.2f}\")\n",
        "print(f\"{RF} Specificity: {Spec_RF:.2}\")\n",
        "print(\"Accuracy:\",round(accuracy_score(Y_train,y_pred_RF),2))\n",
        "print(\"-\"*50)"
      ]
    },
    {
      "cell_type": "code",
      "execution_count": null,
      "metadata": {
        "colab": {
          "background_save": true
        },
        "id": "tijpYR-Kdywl"
      },
      "outputs": [],
      "source": [
        "sns.heatmap(CFM_RF,annot=True, fmt=\"d\", cmap=\"Blues\")\n",
        "plt.xlabel(\"Predicted Label\")\n",
        "plt.ylabel(\"True Label\")\n",
        "plt.title(\"Confusion matrix for RandomForestClassifier \")\n",
        "plt.show()"
      ]
    },
    {
      "cell_type": "markdown",
      "metadata": {
        "id": "v0kpAgO6jV0w"
      },
      "source": [
        "The diagonal values of 334 and 362 represent correct preddiction. theses are the instance where te model correctly predicted the true label. out of the 1000 sample 334 user will not clicked on the ads while 362 will click on the ads."
      ]
    },
    {
      "cell_type": "markdown",
      "metadata": {
        "id": "NYydhikok5iK"
      },
      "source": [
        "\n",
        "\n",
        "---\n",
        "\n"
      ]
    },
    {
      "cell_type": "markdown",
      "metadata": {
        "id": "f7-tUsWNjghQ"
      },
      "source": [
        "**XGBClassifier**"
      ]
    },
    {
      "cell_type": "code",
      "execution_count": null,
      "metadata": {
        "colab": {
          "background_save": true
        },
        "collapsed": true,
        "id": "V5-n-HfCp3Mu"
      },
      "outputs": [],
      "source": [
        "print(f\"{XGB} Confusion Matrix\")\n",
        "print(CFM_XGB)\n",
        "print(f\"{XGB} Sensitivity (Recall): {Sen_XGB:.2f}\")\n",
        "print(f\"{XGB} Specificaty: {Spec_XGB:.2}\")\n",
        "print(\"Accuracy:\",round(accuracy_score(Y_train,y_pred_XGB),2))\n",
        "print(\"-\"*50)"
      ]
    },
    {
      "cell_type": "code",
      "execution_count": null,
      "metadata": {
        "colab": {
          "background_save": true
        },
        "id": "Jo41CH3IXbLU"
      },
      "outputs": [],
      "source": [
        "sns.heatmap(CFM_XGB,annot=True, fmt=\"d\")\n",
        "plt.xlabel(\"Predicted Label\")\n",
        "plt.ylabel(\"True Label\")\n",
        "plt.title(\"Confusion matrix for XGBClassifier \")\n",
        "plt.show()"
      ]
    },
    {
      "cell_type": "markdown",
      "metadata": {
        "id": "Uc6LGBH5jn-h"
      },
      "source": [
        "The diagonal values of 336 and 364 represent correct preddiction. theses are the instance where te model correctly predicted the true label. out of the 1000 sample 336 user will not clicked on the ads while 364 will click on the ads."
      ]
    },
    {
      "cell_type": "markdown",
      "metadata": {
        "id": "HKG8BWYR9RGf"
      },
      "source": [
        "**Artificial Neural Network**"
      ]
    },
    {
      "cell_type": "code",
      "execution_count": null,
      "metadata": {
        "colab": {
          "background_save": true
        },
        "id": "_QfrwVizOi5w"
      },
      "outputs": [],
      "source": [
        "\n",
        "cm = confusion_matrix(Y_test, y_pred.round())\n",
        "sns.heatmap(cm,annot=True,cmap=\"Blues\",fmt=\"d\",cbar=False)\n",
        "\n",
        "# cm is the confusion matrix\n",
        "TN,FP,FN,TP = cm.ravel()\n",
        "\n",
        "# Sensitivity\n",
        "Sen= TP / (TP + FN)\n",
        "\n",
        "# Specification\n",
        "Spec= TN /(TN + FP)\n",
        "\n",
        "\n",
        "print(f\"{ANN} Confusion Matrix\")\n",
        "print(cm)\n",
        "print(f\"{ANN} Sensitivity (Recall): {Sen:.2f}\")\n",
        "print(f\"{ANN} Specificaty: {Spec:.2}\")\n",
        "print(\"-\"*50)\n",
        "\n",
        "ac=accuracy_score(Y_test, y_pred.round())\n",
        "print('Accuracy of the model: ',ac)"
      ]
    },
    {
      "cell_type": "markdown",
      "metadata": {
        "id": "6RcMij1o7ZPQ"
      },
      "source": [
        "\n",
        "ANN model evaluate the model on the test set."
      ]
    },
    {
      "cell_type": "markdown",
      "metadata": {
        "id": "3Z_QJjqvHoNZ"
      },
      "source": [
        "# Model Accuracy comparision"
      ]
    },
    {
      "cell_type": "code",
      "execution_count": null,
      "metadata": {
        "colab": {
          "background_save": true
        },
        "id": "BnIjnbD76oAs"
      },
      "outputs": [],
      "source": [
        "\n",
        "\n",
        "df={\"Algorithm\": [\"LR\",\"SVC\",\"KNN\",\"RF\",\"DT\",\"XGB\",\"ANN\"],\n",
        "    \"Accuracy\":[0.98,0.97,0.87,0.99,1.00,1.00,0.45]}\n",
        "data=pd.DataFrame(df)"
      ]
    },
    {
      "cell_type": "code",
      "execution_count": null,
      "metadata": {
        "colab": {
          "background_save": true
        },
        "id": "Tv8UVjh5_okC"
      },
      "outputs": [],
      "source": [
        "#Create bar chart with the Algorithms\n",
        "fig, ax = plt.subplots()\n",
        "data.plot(kind=\"bar\", x =\"Algorithm\", y=\"Accuracy\", ax=ax)\n",
        "plt.xlabel(\"Algorithms\")\n",
        "plt.ylabel(\"Accuracy\")\n",
        "plt.title(\"Accuracy of Algorithms\")\n",
        "plt.show()"
      ]
    },
    {
      "cell_type": "markdown",
      "metadata": {
        "id": "LlsxIAnxSflS"
      },
      "source": [
        "The image represents a bar chart comparing the accuracy of different algorithms. The x-axis represents the algorithms: LR, SVC, KNN, RF, DT, XGB, and ANN. The y-axis represents accuracy, ranging from 0 to 100.\n",
        "\n",
        "The decision tree classifier and extreme gradient boost algorithms both achieved perfect accuracy at 100 per cent. The Random Forest classifier followed closely with 99 per cent accuracy. Logistic regression performed well, attaining 98 per cent accuracy. The k-nearest network algorithm reached 97 per cent accuracy. In contrast, the ANN algorithm underperformed significantly, managing only 45 per cent accuracy.\n"
      ]
    },
    {
      "cell_type": "code",
      "execution_count": null,
      "metadata": {
        "colab": {
          "background_save": true
        },
        "id": "eD6hTmd0dX1J"
      },
      "outputs": [],
      "source": [
        "dt= {\"Algorithm\" : [\"LR\",\"SVC\",\"KNN\",\"RFC\",\"DT\",\"XGB\",\"ANN\"],\n",
        "     \"Specificity\" :[0.99,0.98,0.90,0.99,1.00,1.00,1.00],\n",
        "     \"Sensitivity\" :[0.98,0.96,0.85,0.99,1.00,1.00,0.00]}\n",
        "data=pd.DataFrame(dt)"
      ]
    },
    {
      "cell_type": "code",
      "execution_count": null,
      "metadata": {
        "colab": {
          "background_save": true
        },
        "id": "StVCXBV-fT72"
      },
      "outputs": [],
      "source": [
        "fig, ax = plt.subplots()\n",
        "data.plot(kind=\"bar\",x= \"Algorithm\", y=[\"Sensitivity\", \"Specificity\"], ax=ax)\n",
        "plt.xlabel(\"Algorithm\")\n",
        "plt.ylabel(\"Score\")\n",
        "plt.title(\"Sensitivity and Specificty of Algorithms\")\n",
        "plt.show()"
      ]
    },
    {
      "cell_type": "markdown",
      "metadata": {
        "id": "atiKy95TOcgB"
      },
      "source": [
        "The diagram represents the sensitivity and specificity of the algorithms and their various score. The x-axis represents the LR, SVC, KNN, RF, DT, XGB, and ANN algorithms. The y-axis represents the scores, ranging from 0 to 100 in it respective percentages. Whereby decision tree and extreme gradient performed best."
      ]
    },
    {
      "cell_type": "code",
      "execution_count": null,
      "metadata": {
        "colab": {
          "background_save": true
        },
        "id": "yFv9pwRjf0IB"
      },
      "outputs": [],
      "source": []
    }
  ],
  "metadata": {
    "colab": {
      "provenance": []
    },
    "kernelspec": {
      "display_name": "Python 3",
      "name": "python3"
    },
    "language_info": {
      "name": "python"
    }
  },
  "nbformat": 4,
  "nbformat_minor": 0
}